{
 "cells": [
  {
   "cell_type": "code",
   "execution_count": 16,
   "metadata": {},
   "outputs": [],
   "source": [
    "import pandas as pd\n",
    "import numpy as np\n",
    "import keras\n",
    "import tensorflow\n",
    "from tensorflow.keras.preprocessing.sequence import pad_sequences  # type: ignore\n",
    "from sklearn.preprocessing import LabelEncoder  # type: ignore\n",
    "from sklearn.model_selection import train_test_split  # type: ignore\n",
    "from tensorflow.keras.preprocessing.text import Tokenizer  # type: ignore\n",
    "from keras.models import Sequential\n",
    "from keras.layers import Embedding, Flatten, Dense"
   ]
  },
  {
   "cell_type": "code",
   "execution_count": 17,
   "metadata": {},
   "outputs": [
    {
     "name": "stdout",
     "output_type": "stream",
     "text": [
      "                                                Text Emotions\n",
      "0          im updating my blog because i feel shitty  sadness\n",
      "1  i never make her separate from me because i do...  sadness\n",
      "2  i left with my bouquet of red and yellow tulip...      joy\n",
      "3    i was feeling a little vain when i did this one  sadness\n",
      "4  i cant walk into a shop anywhere where i do no...     fear\n"
     ]
    }
   ],
   "source": [
    "data = pd.read_csv(\"test.txt\", sep=';')\n",
    "data.columns = [\"Text\", \"Emotions\"]\n",
    "print(data.head())"
   ]
  },
  {
   "cell_type": "code",
   "execution_count": null,
   "metadata": {},
   "outputs": [],
   "source": [
    "\n"
   ]
  },
  {
   "cell_type": "code",
   "execution_count": null,
   "metadata": {},
   "outputs": [],
   "source": []
  }
 ],
 "metadata": {
  "kernelspec": {
   "display_name": "Python 3",
   "language": "python",
   "name": "python3"
  },
  "language_info": {
   "codemirror_mode": {
    "name": "ipython",
    "version": 3
   },
   "file_extension": ".py",
   "mimetype": "text/x-python",
   "name": "python",
   "nbconvert_exporter": "python",
   "pygments_lexer": "ipython3",
   "version": "3.12.3"
  }
 },
 "nbformat": 4,
 "nbformat_minor": 2
}
