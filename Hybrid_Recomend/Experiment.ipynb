{
 "cells": [
  {
   "cell_type": "markdown",
   "metadata": {},
   "source": [
    "Hybrid(content + collaburative)\n",
    "1.content based-> movie, music, books\n",
    "2.collaburative filtering -> user behaviour, patterns, ratings "
   ]
  },
  {
   "cell_type": "code",
   "execution_count": 1,
   "metadata": {},
   "outputs": [],
   "source": [
    "import pandas as pd\n",
    "from surprise import Dataset, Reader, SVD\n",
    "from sklearn.feature_extraction.text import TfidfVectorizer\n",
    "from sklearn.metrics.pairwise import linear_kernel "
   ]
  },
  {
   "cell_type": "code",
   "execution_count": 2,
   "metadata": {},
   "outputs": [],
   "source": [
    "data = pd.read_csv(\"fashion_products.csv\")"
   ]
  },
  {
   "cell_type": "code",
   "execution_count": 3,
   "metadata": {},
   "outputs": [
    {
     "data": {
      "text/plain": [
       "(1000, 9)"
      ]
     },
     "execution_count": 3,
     "metadata": {},
     "output_type": "execute_result"
    }
   ],
   "source": [
    "data.shape"
   ]
  },
  {
   "cell_type": "code",
   "execution_count": 4,
   "metadata": {},
   "outputs": [
    {
     "data": {
      "text/html": [
       "<div>\n",
       "<style scoped>\n",
       "    .dataframe tbody tr th:only-of-type {\n",
       "        vertical-align: middle;\n",
       "    }\n",
       "\n",
       "    .dataframe tbody tr th {\n",
       "        vertical-align: top;\n",
       "    }\n",
       "\n",
       "    .dataframe thead th {\n",
       "        text-align: right;\n",
       "    }\n",
       "</style>\n",
       "<table border=\"1\" class=\"dataframe\">\n",
       "  <thead>\n",
       "    <tr style=\"text-align: right;\">\n",
       "      <th></th>\n",
       "      <th>User ID</th>\n",
       "      <th>Product ID</th>\n",
       "      <th>Product Name</th>\n",
       "      <th>Brand</th>\n",
       "      <th>Category</th>\n",
       "      <th>Price</th>\n",
       "      <th>Rating</th>\n",
       "      <th>Color</th>\n",
       "      <th>Size</th>\n",
       "    </tr>\n",
       "  </thead>\n",
       "  <tbody>\n",
       "    <tr>\n",
       "      <th>0</th>\n",
       "      <td>19</td>\n",
       "      <td>1</td>\n",
       "      <td>Dress</td>\n",
       "      <td>Adidas</td>\n",
       "      <td>Men's Fashion</td>\n",
       "      <td>40</td>\n",
       "      <td>1.043159</td>\n",
       "      <td>Black</td>\n",
       "      <td>XL</td>\n",
       "    </tr>\n",
       "    <tr>\n",
       "      <th>1</th>\n",
       "      <td>97</td>\n",
       "      <td>2</td>\n",
       "      <td>Shoes</td>\n",
       "      <td>H&amp;M</td>\n",
       "      <td>Women's Fashion</td>\n",
       "      <td>82</td>\n",
       "      <td>4.026416</td>\n",
       "      <td>Black</td>\n",
       "      <td>L</td>\n",
       "    </tr>\n",
       "    <tr>\n",
       "      <th>2</th>\n",
       "      <td>25</td>\n",
       "      <td>3</td>\n",
       "      <td>Dress</td>\n",
       "      <td>Adidas</td>\n",
       "      <td>Women's Fashion</td>\n",
       "      <td>44</td>\n",
       "      <td>3.337938</td>\n",
       "      <td>Yellow</td>\n",
       "      <td>XL</td>\n",
       "    </tr>\n",
       "    <tr>\n",
       "      <th>3</th>\n",
       "      <td>57</td>\n",
       "      <td>4</td>\n",
       "      <td>Shoes</td>\n",
       "      <td>Zara</td>\n",
       "      <td>Men's Fashion</td>\n",
       "      <td>23</td>\n",
       "      <td>1.049523</td>\n",
       "      <td>White</td>\n",
       "      <td>S</td>\n",
       "    </tr>\n",
       "    <tr>\n",
       "      <th>4</th>\n",
       "      <td>79</td>\n",
       "      <td>5</td>\n",
       "      <td>T-shirt</td>\n",
       "      <td>Adidas</td>\n",
       "      <td>Men's Fashion</td>\n",
       "      <td>79</td>\n",
       "      <td>4.302773</td>\n",
       "      <td>Black</td>\n",
       "      <td>M</td>\n",
       "    </tr>\n",
       "  </tbody>\n",
       "</table>\n",
       "</div>"
      ],
      "text/plain": [
       "   User ID  Product ID Product Name   Brand         Category  Price    Rating  \\\n",
       "0       19           1        Dress  Adidas    Men's Fashion     40  1.043159   \n",
       "1       97           2        Shoes     H&M  Women's Fashion     82  4.026416   \n",
       "2       25           3        Dress  Adidas  Women's Fashion     44  3.337938   \n",
       "3       57           4        Shoes    Zara    Men's Fashion     23  1.049523   \n",
       "4       79           5      T-shirt  Adidas    Men's Fashion     79  4.302773   \n",
       "\n",
       "    Color Size  \n",
       "0   Black   XL  \n",
       "1   Black    L  \n",
       "2  Yellow   XL  \n",
       "3   White    S  \n",
       "4   Black    M  "
      ]
     },
     "execution_count": 4,
     "metadata": {},
     "output_type": "execute_result"
    }
   ],
   "source": [
    "data.head()"
   ]
  },
  {
   "cell_type": "code",
   "execution_count": 13,
   "metadata": {},
   "outputs": [
    {
     "name": "stdout",
     "output_type": "stream",
     "text": [
      "<class 'pandas.core.frame.DataFrame'>\n",
      "RangeIndex: 1000 entries, 0 to 999\n",
      "Data columns (total 9 columns):\n",
      " #   Column        Non-Null Count  Dtype  \n",
      "---  ------        --------------  -----  \n",
      " 0   User ID       1000 non-null   int64  \n",
      " 1   Product ID    1000 non-null   int64  \n",
      " 2   Product Name  1000 non-null   object \n",
      " 3   Brand         1000 non-null   object \n",
      " 4   Category      1000 non-null   object \n",
      " 5   Price         1000 non-null   int64  \n",
      " 6   Rating        1000 non-null   float64\n",
      " 7   Color         1000 non-null   object \n",
      " 8   Size          1000 non-null   object \n",
      "dtypes: float64(1), int64(3), object(5)\n",
      "memory usage: 70.4+ KB\n"
     ]
    }
   ],
   "source": [
    "data.info()"
   ]
  },
  {
   "cell_type": "code",
   "execution_count": 5,
   "metadata": {},
   "outputs": [
    {
     "data": {
      "text/plain": [
       "User ID         0\n",
       "Product ID      0\n",
       "Product Name    0\n",
       "Brand           0\n",
       "Category        0\n",
       "Price           0\n",
       "Rating          0\n",
       "Color           0\n",
       "Size            0\n",
       "dtype: int64"
      ]
     },
     "execution_count": 5,
     "metadata": {},
     "output_type": "execute_result"
    }
   ],
   "source": [
    "data.isnull().sum()"
   ]
  },
  {
   "cell_type": "code",
   "execution_count": 6,
   "metadata": {},
   "outputs": [
    {
     "data": {
      "text/html": [
       "<div>\n",
       "<style scoped>\n",
       "    .dataframe tbody tr th:only-of-type {\n",
       "        vertical-align: middle;\n",
       "    }\n",
       "\n",
       "    .dataframe tbody tr th {\n",
       "        vertical-align: top;\n",
       "    }\n",
       "\n",
       "    .dataframe thead th {\n",
       "        text-align: right;\n",
       "    }\n",
       "</style>\n",
       "<table border=\"1\" class=\"dataframe\">\n",
       "  <thead>\n",
       "    <tr style=\"text-align: right;\">\n",
       "      <th></th>\n",
       "      <th>User ID</th>\n",
       "      <th>Product ID</th>\n",
       "      <th>Price</th>\n",
       "      <th>Rating</th>\n",
       "    </tr>\n",
       "  </thead>\n",
       "  <tbody>\n",
       "    <tr>\n",
       "      <th>count</th>\n",
       "      <td>1000.00000</td>\n",
       "      <td>1000.000000</td>\n",
       "      <td>1000.000000</td>\n",
       "      <td>1000.000000</td>\n",
       "    </tr>\n",
       "    <tr>\n",
       "      <th>mean</th>\n",
       "      <td>50.41900</td>\n",
       "      <td>500.500000</td>\n",
       "      <td>55.785000</td>\n",
       "      <td>2.993135</td>\n",
       "    </tr>\n",
       "    <tr>\n",
       "      <th>std</th>\n",
       "      <td>28.78131</td>\n",
       "      <td>288.819436</td>\n",
       "      <td>26.291748</td>\n",
       "      <td>1.153185</td>\n",
       "    </tr>\n",
       "    <tr>\n",
       "      <th>min</th>\n",
       "      <td>1.00000</td>\n",
       "      <td>1.000000</td>\n",
       "      <td>10.000000</td>\n",
       "      <td>1.000967</td>\n",
       "    </tr>\n",
       "    <tr>\n",
       "      <th>25%</th>\n",
       "      <td>26.00000</td>\n",
       "      <td>250.750000</td>\n",
       "      <td>33.000000</td>\n",
       "      <td>1.992786</td>\n",
       "    </tr>\n",
       "    <tr>\n",
       "      <th>50%</th>\n",
       "      <td>50.00000</td>\n",
       "      <td>500.500000</td>\n",
       "      <td>57.000000</td>\n",
       "      <td>2.984003</td>\n",
       "    </tr>\n",
       "    <tr>\n",
       "      <th>75%</th>\n",
       "      <td>75.00000</td>\n",
       "      <td>750.250000</td>\n",
       "      <td>78.250000</td>\n",
       "      <td>3.985084</td>\n",
       "    </tr>\n",
       "    <tr>\n",
       "      <th>max</th>\n",
       "      <td>100.00000</td>\n",
       "      <td>1000.000000</td>\n",
       "      <td>100.000000</td>\n",
       "      <td>4.987964</td>\n",
       "    </tr>\n",
       "  </tbody>\n",
       "</table>\n",
       "</div>"
      ],
      "text/plain": [
       "          User ID   Product ID        Price       Rating\n",
       "count  1000.00000  1000.000000  1000.000000  1000.000000\n",
       "mean     50.41900   500.500000    55.785000     2.993135\n",
       "std      28.78131   288.819436    26.291748     1.153185\n",
       "min       1.00000     1.000000    10.000000     1.000967\n",
       "25%      26.00000   250.750000    33.000000     1.992786\n",
       "50%      50.00000   500.500000    57.000000     2.984003\n",
       "75%      75.00000   750.250000    78.250000     3.985084\n",
       "max     100.00000  1000.000000   100.000000     4.987964"
      ]
     },
     "execution_count": 6,
     "metadata": {},
     "output_type": "execute_result"
    }
   ],
   "source": [
    "data.describe()"
   ]
  },
  {
   "cell_type": "code",
   "execution_count": null,
   "metadata": {},
   "outputs": [],
   "source": [
    "# Content based Filtering\n",
    "\n",
    "content_df = data[[\"Product ID\", \"Product Name\", \"Brand\", \"Category\", \"Color\", \"Size\"]]\n",
    "\n",
    "content_df['Content'] = content_df.apply(lambda row: ' '.join(row.dropna().astype(str)), axis=1)\n",
    "\n",
    "#Use TF-IDF vectorizer to convert content into a matrix of TF-IDF features\n",
    "\n",
    "tfidf_vectorizer = TfidfVectorizer()\n",
    "content_matrix = tfidf_vectorizer.fit_transform(content_df[\"Content\"])\n",
    "\n",
    "content_similarity = linear_kernel(content_matrix, content_matrix) \n",
    "\n",
    "reader = Reader(rating_scale=(1, 5))\n",
    "data = Dataset.load_from_df(data[['User ID', 'Product ID','Rating']], reader)\n",
    "\n",
    "def get_content_based_recomendations(product_id, top_n):\n",
    "    index = content_df[content_df['Product ID'] == product_id].index[0]\n",
    "    similarity_scores = content_similarity[index]\n",
    "    similar_indices = similarity_scores.argsort()[::-1][1:top_n + 1]\n",
    "    recomendations = content_df.loc[similar_indices,'Product ID'].values\n",
    "    return recomendations"
   ]
  },
  {
   "cell_type": "code",
   "execution_count": 8,
   "metadata": {},
   "outputs": [
    {
     "data": {
      "text/plain": [
       "array([  1, 221, 989, 331, 570, 817, 890,   6, 423, 720], dtype=int64)"
      ]
     },
     "execution_count": 8,
     "metadata": {},
     "output_type": "execute_result"
    }
   ],
   "source": [
    "get_content_based_recomendations(5, 10)"
   ]
  },
  {
   "cell_type": "code",
   "execution_count": 11,
   "metadata": {},
   "outputs": [],
   "source": [
    "# Collaborative Filtering\n",
    "algo = SVD()\n",
    "trainset = data.build_full_trainset()\n",
    "algo.fit(trainset)\n",
    "\n",
    "def get_collaborative_filtering_recommendations(user_id, top_n):\n",
    "    testset = trainset.build_anti_testset()\n",
    "    testset = filter(lambda x: x[0] == user_id, testset)\n",
    "    predictions = algo.test(testset)\n",
    "    predictions.sort(key=lambda x: x.est, reverse=True)\n",
    "    recommendations = [prediction.iid for prediction in predictions[:top_n]]\n",
    "    return recommendations"
   ]
  },
  {
   "cell_type": "code",
   "execution_count": 12,
   "metadata": {},
   "outputs": [
    {
     "data": {
      "text/plain": [
       "[534, 231, 126, 986, 199, 695, 877, 343, 445, 829]"
      ]
     },
     "execution_count": 12,
     "metadata": {},
     "output_type": "execute_result"
    }
   ],
   "source": [
    "get_collaborative_filtering_recommendations(79, 10)"
   ]
  },
  {
   "cell_type": "code",
   "execution_count": 13,
   "metadata": {},
   "outputs": [],
   "source": [
    "# Hybrid Approach\n",
    "def get_hybrid_recommendations(user_id, product_id, top_n):\n",
    "    content_based_recommendations = get_content_based_recomendations(product_id, top_n)\n",
    "    collaborative_filtering_recommendations = get_collaborative_filtering_recommendations(user_id, top_n)\n",
    "    hybrid_recommendations = list(set(content_based_recommendations + collaborative_filtering_recommendations))\n",
    "    return hybrid_recommendations[:top_n]"
   ]
  },
  {
   "cell_type": "code",
   "execution_count": 15,
   "metadata": {},
   "outputs": [
    {
     "name": "stdout",
     "output_type": "stream",
     "text": [
      "Hybrid recomendations for User 7 based on Product 12: \n",
      "1. Product ID : 1216\n",
      "2. Product ID : 546\n",
      "3. Product ID : 1195\n",
      "4. Product ID : 1515\n",
      "5. Product ID : 494\n",
      "6. Product ID : 175\n",
      "7. Product ID : 1007\n",
      "8. Product ID : 1457\n",
      "9. Product ID : 1722\n",
      "10. Product ID : 1436\n"
     ]
    }
   ],
   "source": [
    "user_id = 7\n",
    "product_id = 12\n",
    "top_n = 10\n",
    "recomendations = get_hybrid_recommendations(user_id, product_id, top_n)\n",
    "\n",
    "print(f\"Hybrid recomendations for User {user_id} based on Product {product_id}: \")\n",
    "for i, recomendation in enumerate(recomendations):\n",
    "    print(f\"{i + 1}. Product ID : {recomendation}\")"
   ]
  },
  {
   "cell_type": "code",
   "execution_count": null,
   "metadata": {},
   "outputs": [],
   "source": []
  }
 ],
 "metadata": {
  "kernelspec": {
   "display_name": "textml",
   "language": "python",
   "name": "python3"
  },
  "language_info": {
   "codemirror_mode": {
    "name": "ipython",
    "version": 3
   },
   "file_extension": ".py",
   "mimetype": "text/x-python",
   "name": "python",
   "nbconvert_exporter": "python",
   "pygments_lexer": "ipython3",
   "version": "3.12.3"
  }
 },
 "nbformat": 4,
 "nbformat_minor": 2
}
